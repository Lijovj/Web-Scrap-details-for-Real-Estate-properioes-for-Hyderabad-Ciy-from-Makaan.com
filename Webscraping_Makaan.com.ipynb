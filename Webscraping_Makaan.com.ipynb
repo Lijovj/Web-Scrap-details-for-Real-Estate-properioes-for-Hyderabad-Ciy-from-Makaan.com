{
  "nbformat": 4,
  "nbformat_minor": 0,
  "metadata": {
    "colab": {
      "name": "Webscraping-Batch-5472.ipynb",
      "provenance": []
    },
    "kernelspec": {
      "name": "python3",
      "display_name": "Python 3"
    },
    "language_info": {
      "name": "python"
    }
  },
  "cells": [
    {
      "cell_type": "code",
      "metadata": {
        "id": "OQube03vEvKi"
      },
      "source": [
        "#import all the packages\n",
        "\n",
        "import requests\n",
        "from bs4 import BeautifulSoup\n",
        "import pandas as pd"
      ],
      "execution_count": null,
      "outputs": []
    },
    {
      "cell_type": "code",
      "metadata": {
        "colab": {
          "base_uri": "https://localhost:8080/"
        },
        "id": "gOcbkhauEw67",
        "outputId": "05dbe043-0956-49c7-ab81-845338da6f5b"
      },
      "source": [
        "url = 'https://www.makaan.com/hyderabad-residential-property/buy-property-in-hyderabad-city'\n",
        "req = requests.get(url)\n",
        "print(req)\n",
        "soup = BeautifulSoup(req.text,'html')\n",
        "#print(soup.prettify())"
      ],
      "execution_count": null,
      "outputs": [
        {
          "output_type": "stream",
          "text": [
            "<Response [200]>\n"
          ],
          "name": "stdout"
        }
      ]
    },
    {
      "cell_type": "code",
      "metadata": {
        "colab": {
          "base_uri": "https://localhost:8080/"
        },
        "id": "jcrVfNbeEw-d",
        "outputId": "c77ec01b-79f3-4ab7-e57a-694185d4ab41"
      },
      "source": [
        "#find and findall\n",
        "soup.find('span')   # find will give us the first span tag"
      ],
      "execution_count": null,
      "outputs": [
        {
          "output_type": "execute_result",
          "data": {
            "text/plain": [
              "<span data-target=\"categoryPlaceholder\">buy</span>"
            ]
          },
          "metadata": {
            "tags": []
          },
          "execution_count": 4
        }
      ]
    },
    {
      "cell_type": "code",
      "metadata": {
        "id": "MpnBu-hBExBq"
      },
      "source": [
        "soup.findAll('span')"
      ],
      "execution_count": null,
      "outputs": []
    },
    {
      "cell_type": "code",
      "metadata": {
        "id": "fwxfrAokExEh"
      },
      "source": [
        "soup.find('span',attrs={'class' : 'seller-type'}).text  #owner info"
      ],
      "execution_count": null,
      "outputs": []
    },
    {
      "cell_type": "code",
      "metadata": {
        "id": "H68-fq3rExHn"
      },
      "source": [
        "soup.findAll('span',attrs={'class' : 'val'})"
      ],
      "execution_count": null,
      "outputs": []
    },
    {
      "cell_type": "code",
      "metadata": {
        "colab": {
          "base_uri": "https://localhost:8080/",
          "height": 35
        },
        "id": "ALYabcPgExK-",
        "outputId": "5e7b4419-7fd6-4246-b461-4a261a4ee5f9"
      },
      "source": [
        "soup.find('div',attrs={'class': 'title-line '}).strong.span.text   # bhk"
      ],
      "execution_count": null,
      "outputs": [
        {
          "output_type": "execute_result",
          "data": {
            "application/vnd.google.colaboratory.intrinsic+json": {
              "type": "string"
            },
            "text/plain": [
              "'3 '"
            ]
          },
          "metadata": {
            "tags": []
          },
          "execution_count": 8
        }
      ]
    },
    {
      "cell_type": "code",
      "metadata": {
        "colab": {
          "base_uri": "https://localhost:8080/",
          "height": 35
        },
        "id": "NHIF6d7OExOE",
        "outputId": "bf97444c-34e3-4202-c27f-6706d9dc85db"
      },
      "source": [
        "soup.find('div',attrs={'data-type':'price-link'}).text   #price of aprt"
      ],
      "execution_count": null,
      "outputs": [
        {
          "output_type": "execute_result",
          "data": {
            "application/vnd.google.colaboratory.intrinsic+json": {
              "type": "string"
            },
            "text/plain": [
              "' 1.6 Cr'"
            ]
          },
          "metadata": {
            "tags": []
          },
          "execution_count": 9
        }
      ]
    },
    {
      "cell_type": "code",
      "metadata": {
        "colab": {
          "base_uri": "https://localhost:8080/",
          "height": 35
        },
        "id": "uD6MFY1VExTy",
        "outputId": "8b417156-6364-407f-b89f-3e9518e6f5d9"
      },
      "source": [
        "soup.find('span',attrs={'itemprop':'addressLocality'}).text   # locality"
      ],
      "execution_count": null,
      "outputs": [
        {
          "output_type": "execute_result",
          "data": {
            "application/vnd.google.colaboratory.intrinsic+json": {
              "type": "string"
            },
            "text/plain": [
              "'Manikonda'"
            ]
          },
          "metadata": {
            "tags": []
          },
          "execution_count": 10
        }
      ]
    },
    {
      "cell_type": "code",
      "metadata": {
        "colab": {
          "base_uri": "https://localhost:8080/",
          "height": 35
        },
        "id": "9VmMR_vRExap",
        "outputId": "928b8a89-1fb6-4045-ec91-b352772e0cdd"
      },
      "source": [
        "soup.find('td',attrs={'class' : 'size'}).text   # area of aprt"
      ],
      "execution_count": null,
      "outputs": [
        {
          "output_type": "execute_result",
          "data": {
            "application/vnd.google.colaboratory.intrinsic+json": {
              "type": "string"
            },
            "text/plain": [
              "'2810 '"
            ]
          },
          "metadata": {
            "tags": []
          },
          "execution_count": 11
        }
      ]
    },
    {
      "cell_type": "code",
      "metadata": {
        "colab": {
          "base_uri": "https://localhost:8080/",
          "height": 35
        },
        "id": "PMEp5dEnExeY",
        "outputId": "4193e4e1-bb6c-46d4-f905-11f9844ccaac"
      },
      "source": [
        "soup.find('td',attrs={'class' : 'val'}).text   # construction status"
      ],
      "execution_count": null,
      "outputs": [
        {
          "output_type": "execute_result",
          "data": {
            "application/vnd.google.colaboratory.intrinsic+json": {
              "type": "string"
            },
            "text/plain": [
              "'Under Construction'"
            ]
          },
          "metadata": {
            "tags": []
          },
          "execution_count": 12
        }
      ]
    },
    {
      "cell_type": "code",
      "metadata": {
        "colab": {
          "base_uri": "https://localhost:8080/",
          "height": 35
        },
        "id": "VIhmYnN-ExhW",
        "outputId": "5302f0a2-4a86-4b4f-edd7-60a82c41639e"
      },
      "source": [
        "soup.find('td',attrs={'class':'lbl rate'}).text  # price per sqft"
      ],
      "execution_count": null,
      "outputs": [
        {
          "output_type": "execute_result",
          "data": {
            "application/vnd.google.colaboratory.intrinsic+json": {
              "type": "string"
            },
            "text/plain": [
              "'5,699 / sq ft'"
            ]
          },
          "metadata": {
            "tags": []
          },
          "execution_count": 13
        }
      ]
    },
    {
      "cell_type": "code",
      "metadata": {
        "colab": {
          "base_uri": "https://localhost:8080/"
        },
        "id": "Ci1qPuxXExnO",
        "outputId": "56f40e12-c8aa-44f2-b888-f3309a7a8e24"
      },
      "source": [
        "own_info = soup.findAll('span',attrs={'class' : 'seller-type'})  #owner info\n",
        "len(own_info)"
      ],
      "execution_count": null,
      "outputs": [
        {
          "output_type": "execute_result",
          "data": {
            "text/plain": [
              "20"
            ]
          },
          "metadata": {
            "tags": []
          },
          "execution_count": 14
        }
      ]
    },
    {
      "cell_type": "code",
      "metadata": {
        "id": "MVxW1wiyN5jx"
      },
      "source": [
        "own_inf = [i.text for i in own_info]  # owner info\n",
        "own_inf"
      ],
      "execution_count": null,
      "outputs": []
    },
    {
      "cell_type": "code",
      "metadata": {
        "id": "XjSwUIrsExqY"
      },
      "source": [
        "b_info = soup.findAll('div',attrs={'class': 'title-line '})   # bhk"
      ],
      "execution_count": null,
      "outputs": []
    },
    {
      "cell_type": "code",
      "metadata": {
        "id": "nerVVAidExtw"
      },
      "source": [
        "bhk_info = [i.strong.span.text.strip() for i in b_info]  #bhk info\n",
        "bhk_info"
      ],
      "execution_count": null,
      "outputs": []
    },
    {
      "cell_type": "code",
      "metadata": {
        "id": "vgB8b_3GP7jF"
      },
      "source": [
        "p_inf = soup.findAll('div',attrs={'data-type':'price-link'})  #price of aprt\n",
        "p_info = [i.text.strip() for i in p_inf]\n",
        "p_info"
      ],
      "execution_count": null,
      "outputs": []
    },
    {
      "cell_type": "code",
      "metadata": {
        "colab": {
          "base_uri": "https://localhost:8080/"
        },
        "id": "f0ExD2RTP7mT",
        "outputId": "ad9c0841-1bc4-48bb-cb2d-6d4016b39526"
      },
      "source": [
        "loc_inf = soup.findAll('span',attrs={'itemprop':'addressLocality'})   # locality\n",
        "loc_info = [i.text for i in loc_inf]\n",
        "loc_info"
      ],
      "execution_count": null,
      "outputs": [
        {
          "output_type": "execute_result",
          "data": {
            "text/plain": [
              "['Manikonda',\n",
              " 'Shaikpet',\n",
              " 'Bachupally',\n",
              " 'Shamshabad',\n",
              " 'Tellapur',\n",
              " 'Attapur',\n",
              " 'Serilingampally',\n",
              " 'Sainikpuri',\n",
              " 'Sheriguda',\n",
              " 'Manikonda',\n",
              " 'Bachupally',\n",
              " 'Ghatkesar',\n",
              " 'Attapur',\n",
              " 'Kompally',\n",
              " 'Shankarpalli',\n",
              " 'Mallampet',\n",
              " 'Hitech City',\n",
              " 'Nanakramguda',\n",
              " 'Manikonda',\n",
              " 'Shaikpet']"
            ]
          },
          "metadata": {
            "tags": []
          },
          "execution_count": 19
        }
      ]
    },
    {
      "cell_type": "code",
      "metadata": {
        "id": "f8FW2JezVxyn"
      },
      "source": [
        "a_inf = soup.findAll('td',attrs={'class' : 'size'})   # area of aprt\n",
        "ar_info = [i.text.strip() for i in a_inf]\n",
        "ar_info"
      ],
      "execution_count": null,
      "outputs": []
    },
    {
      "cell_type": "code",
      "metadata": {
        "id": "I76wLYv8WMgR"
      },
      "source": [
        "con_st = soup.findAll('td',attrs={'class' : 'val'})   # construction status\n",
        "con_status = [i.text for i in con_st]\n",
        "con_status"
      ],
      "execution_count": null,
      "outputs": []
    },
    {
      "cell_type": "code",
      "metadata": {
        "colab": {
          "base_uri": "https://localhost:8080/"
        },
        "id": "SsUcWICrWjSw",
        "outputId": "35e4999e-e7c3-491a-f093-f078c64801e8"
      },
      "source": [
        "p_p_sqft = soup.findAll('td',attrs={'class':'lbl rate'})  # price per sqft\n",
        "prc_pr_sqft = [i.text for i in p_p_sqft]\n",
        "print(prc_pr_sqft)\n",
        "print(len(prc_pr_sqft))"
      ],
      "execution_count": null,
      "outputs": [
        {
          "output_type": "stream",
          "text": [
            "['5,699 / sq ft', '9,565 / sq ft', '4,400 / sq ft', '4,899 / sq ft', '4,600 / sq ft', '6,501 / sq ft', '15,000 / sq ft', '5,400 / sq ft', '3,555 / sq ft', '6,200 / sq ft', '6,304 / sq ft', '4,500 / sq ft', '5,500 / sq ft', '4,700 / sq ft', '4,700 / sq ft', '4,199 / sq ft', '8,290 / sq ft', '6,800 / sq ft', '5,699 / sq ft', '10,252 / sq ft']\n",
            "20\n"
          ],
          "name": "stdout"
        }
      ]
    },
    {
      "cell_type": "code",
      "metadata": {
        "id": "YFaQw1I1W5ag"
      },
      "source": [
        "data = pd.DataFrame({'Owner_inf' : own_inf,\n",
        "              'Bhk_info' : bhk_info,\n",
        "              'Price' : p_info,\n",
        "              'Locality' : loc_info,\n",
        "              'Area_sqft' : ar_info,\n",
        "              'Status' : con_status,\n",
        "              'Price_Per_sqft' : prc_pr_sqft})"
      ],
      "execution_count": null,
      "outputs": []
    },
    {
      "cell_type": "code",
      "metadata": {
        "colab": {
          "base_uri": "https://localhost:8080/",
          "height": 669
        },
        "id": "sczECg12X_85",
        "outputId": "420905a1-2322-4a13-db9c-629ad29513ad"
      },
      "source": [
        "data"
      ],
      "execution_count": null,
      "outputs": [
        {
          "output_type": "execute_result",
          "data": {
            "text/html": [
              "<div>\n",
              "<style scoped>\n",
              "    .dataframe tbody tr th:only-of-type {\n",
              "        vertical-align: middle;\n",
              "    }\n",
              "\n",
              "    .dataframe tbody tr th {\n",
              "        vertical-align: top;\n",
              "    }\n",
              "\n",
              "    .dataframe thead th {\n",
              "        text-align: right;\n",
              "    }\n",
              "</style>\n",
              "<table border=\"1\" class=\"dataframe\">\n",
              "  <thead>\n",
              "    <tr style=\"text-align: right;\">\n",
              "      <th></th>\n",
              "      <th>Owner_inf</th>\n",
              "      <th>Bhk_info</th>\n",
              "      <th>Price</th>\n",
              "      <th>Locality</th>\n",
              "      <th>Area_sqft</th>\n",
              "      <th>Status</th>\n",
              "      <th>Price_Per_sqft</th>\n",
              "    </tr>\n",
              "  </thead>\n",
              "  <tbody>\n",
              "    <tr>\n",
              "      <th>0</th>\n",
              "      <td>BUILDER</td>\n",
              "      <td>3</td>\n",
              "      <td>1.6 Cr</td>\n",
              "      <td>Manikonda</td>\n",
              "      <td>2810</td>\n",
              "      <td>Under Construction</td>\n",
              "      <td>5,699 / sq ft</td>\n",
              "    </tr>\n",
              "    <tr>\n",
              "      <th>1</th>\n",
              "      <td>BUILDER</td>\n",
              "      <td>2</td>\n",
              "      <td>1.43 Cr</td>\n",
              "      <td>Shaikpet</td>\n",
              "      <td>1495</td>\n",
              "      <td>Ready to move</td>\n",
              "      <td>9,565 / sq ft</td>\n",
              "    </tr>\n",
              "    <tr>\n",
              "      <th>2</th>\n",
              "      <td>BUILDER</td>\n",
              "      <td>2</td>\n",
              "      <td>56.98 L</td>\n",
              "      <td>Bachupally</td>\n",
              "      <td>1295</td>\n",
              "      <td>Under Construction</td>\n",
              "      <td>4,400 / sq ft</td>\n",
              "    </tr>\n",
              "    <tr>\n",
              "      <th>3</th>\n",
              "      <td>BUILDER</td>\n",
              "      <td>2</td>\n",
              "      <td>43.6 L</td>\n",
              "      <td>Shamshabad</td>\n",
              "      <td>890</td>\n",
              "      <td>Under Construction</td>\n",
              "      <td>4,899 / sq ft</td>\n",
              "    </tr>\n",
              "    <tr>\n",
              "      <th>4</th>\n",
              "      <td>BUILDER</td>\n",
              "      <td>3</td>\n",
              "      <td>65.82 L</td>\n",
              "      <td>Tellapur</td>\n",
              "      <td>1431</td>\n",
              "      <td>Under Construction</td>\n",
              "      <td>4,600 / sq ft</td>\n",
              "    </tr>\n",
              "    <tr>\n",
              "      <th>5</th>\n",
              "      <td>BUILDER</td>\n",
              "      <td>3</td>\n",
              "      <td>1.65 Cr</td>\n",
              "      <td>Attapur</td>\n",
              "      <td>2540</td>\n",
              "      <td>Under Construction</td>\n",
              "      <td>6,501 / sq ft</td>\n",
              "    </tr>\n",
              "    <tr>\n",
              "      <th>6</th>\n",
              "      <td>BUILDER</td>\n",
              "      <td>4</td>\n",
              "      <td>6.22 Cr</td>\n",
              "      <td>Serilingampally</td>\n",
              "      <td>4147</td>\n",
              "      <td>Under Construction</td>\n",
              "      <td>15,000 / sq ft</td>\n",
              "    </tr>\n",
              "    <tr>\n",
              "      <th>7</th>\n",
              "      <td>BUILDER</td>\n",
              "      <td>3</td>\n",
              "      <td>1.18 Cr</td>\n",
              "      <td>Sainikpuri</td>\n",
              "      <td>2200</td>\n",
              "      <td>Under Construction</td>\n",
              "      <td>5,400 / sq ft</td>\n",
              "    </tr>\n",
              "    <tr>\n",
              "      <th>8</th>\n",
              "      <td>BUILDER</td>\n",
              "      <td>Residential Plot</td>\n",
              "      <td>1.11 Cr</td>\n",
              "      <td>Sheriguda</td>\n",
              "      <td>3150</td>\n",
              "      <td>New</td>\n",
              "      <td>3,555 / sq ft</td>\n",
              "    </tr>\n",
              "    <tr>\n",
              "      <th>9</th>\n",
              "      <td>BUILDER</td>\n",
              "      <td>3</td>\n",
              "      <td>95.35 L</td>\n",
              "      <td>Manikonda</td>\n",
              "      <td>1538</td>\n",
              "      <td>Under Construction</td>\n",
              "      <td>6,200 / sq ft</td>\n",
              "    </tr>\n",
              "    <tr>\n",
              "      <th>10</th>\n",
              "      <td>BUILDER</td>\n",
              "      <td>4</td>\n",
              "      <td>1.45 Cr</td>\n",
              "      <td>Bachupally</td>\n",
              "      <td>2300</td>\n",
              "      <td>Under Construction</td>\n",
              "      <td>6,304 / sq ft</td>\n",
              "    </tr>\n",
              "    <tr>\n",
              "      <th>11</th>\n",
              "      <td>BUILDER</td>\n",
              "      <td>2</td>\n",
              "      <td>56.02 L</td>\n",
              "      <td>Ghatkesar</td>\n",
              "      <td>1245</td>\n",
              "      <td>Under Construction</td>\n",
              "      <td>4,500 / sq ft</td>\n",
              "    </tr>\n",
              "    <tr>\n",
              "      <th>12</th>\n",
              "      <td>BUILDER</td>\n",
              "      <td>2</td>\n",
              "      <td>72.05 L</td>\n",
              "      <td>Attapur</td>\n",
              "      <td>1310</td>\n",
              "      <td>Under Construction</td>\n",
              "      <td>5,500 / sq ft</td>\n",
              "    </tr>\n",
              "    <tr>\n",
              "      <th>13</th>\n",
              "      <td>BUILDER</td>\n",
              "      <td>2</td>\n",
              "      <td>61.57 L</td>\n",
              "      <td>Kompally</td>\n",
              "      <td>1310</td>\n",
              "      <td>Under Construction</td>\n",
              "      <td>4,700 / sq ft</td>\n",
              "    </tr>\n",
              "    <tr>\n",
              "      <th>14</th>\n",
              "      <td>BUILDER</td>\n",
              "      <td>3</td>\n",
              "      <td>1.46 Cr</td>\n",
              "      <td>Shankarpalli</td>\n",
              "      <td>3120</td>\n",
              "      <td>Under Construction</td>\n",
              "      <td>4,700 / sq ft</td>\n",
              "    </tr>\n",
              "    <tr>\n",
              "      <th>15</th>\n",
              "      <td>BUILDER</td>\n",
              "      <td>3</td>\n",
              "      <td>63.11 L</td>\n",
              "      <td>Mallampet</td>\n",
              "      <td>1503</td>\n",
              "      <td>Under Construction</td>\n",
              "      <td>4,199 / sq ft</td>\n",
              "    </tr>\n",
              "    <tr>\n",
              "      <th>16</th>\n",
              "      <td>BUILDER</td>\n",
              "      <td>4</td>\n",
              "      <td>2.9 Cr</td>\n",
              "      <td>Hitech City</td>\n",
              "      <td>3498</td>\n",
              "      <td>Ready to move</td>\n",
              "      <td>8,290 / sq ft</td>\n",
              "    </tr>\n",
              "    <tr>\n",
              "      <th>17</th>\n",
              "      <td>BUILDER</td>\n",
              "      <td>3</td>\n",
              "      <td>96.22 L</td>\n",
              "      <td>Nanakramguda</td>\n",
              "      <td>1415</td>\n",
              "      <td>Ready to move</td>\n",
              "      <td>6,800 / sq ft</td>\n",
              "    </tr>\n",
              "    <tr>\n",
              "      <th>18</th>\n",
              "      <td>BUILDER</td>\n",
              "      <td>3</td>\n",
              "      <td>97.11 L</td>\n",
              "      <td>Manikonda</td>\n",
              "      <td>1704</td>\n",
              "      <td>Under Construction</td>\n",
              "      <td>5,699 / sq ft</td>\n",
              "    </tr>\n",
              "    <tr>\n",
              "      <th>19</th>\n",
              "      <td>BUILDER</td>\n",
              "      <td>4</td>\n",
              "      <td>3.04 Cr</td>\n",
              "      <td>Shaikpet</td>\n",
              "      <td>2965</td>\n",
              "      <td>Ready to move</td>\n",
              "      <td>10,252 / sq ft</td>\n",
              "    </tr>\n",
              "  </tbody>\n",
              "</table>\n",
              "</div>"
            ],
            "text/plain": [
              "   Owner_inf          Bhk_info  ...              Status  Price_Per_sqft\n",
              "0    BUILDER                 3  ...  Under Construction   5,699 / sq ft\n",
              "1    BUILDER                 2  ...       Ready to move   9,565 / sq ft\n",
              "2    BUILDER                 2  ...  Under Construction   4,400 / sq ft\n",
              "3    BUILDER                 2  ...  Under Construction   4,899 / sq ft\n",
              "4    BUILDER                 3  ...  Under Construction   4,600 / sq ft\n",
              "5    BUILDER                 3  ...  Under Construction   6,501 / sq ft\n",
              "6    BUILDER                 4  ...  Under Construction  15,000 / sq ft\n",
              "7    BUILDER                 3  ...  Under Construction   5,400 / sq ft\n",
              "8    BUILDER  Residential Plot  ...                 New   3,555 / sq ft\n",
              "9    BUILDER                 3  ...  Under Construction   6,200 / sq ft\n",
              "10   BUILDER                 4  ...  Under Construction   6,304 / sq ft\n",
              "11   BUILDER                 2  ...  Under Construction   4,500 / sq ft\n",
              "12   BUILDER                 2  ...  Under Construction   5,500 / sq ft\n",
              "13   BUILDER                 2  ...  Under Construction   4,700 / sq ft\n",
              "14   BUILDER                 3  ...  Under Construction   4,700 / sq ft\n",
              "15   BUILDER                 3  ...  Under Construction   4,199 / sq ft\n",
              "16   BUILDER                 4  ...       Ready to move   8,290 / sq ft\n",
              "17   BUILDER                 3  ...       Ready to move   6,800 / sq ft\n",
              "18   BUILDER                 3  ...  Under Construction   5,699 / sq ft\n",
              "19   BUILDER                 4  ...       Ready to move  10,252 / sq ft\n",
              "\n",
              "[20 rows x 7 columns]"
            ]
          },
          "metadata": {
            "tags": []
          },
          "execution_count": 24
        }
      ]
    },
    {
      "cell_type": "code",
      "metadata": {
        "id": "scOr_NxnZLdI"
      },
      "source": [
        "data.to_csv('aprtment_data.csv',index=False)"
      ],
      "execution_count": null,
      "outputs": []
    },
    {
      "cell_type": "code",
      "metadata": {
        "colab": {
          "base_uri": "https://localhost:8080/"
        },
        "id": "ufKeH9mQZX6N",
        "outputId": "8eda91d6-a229-47ac-c300-d554847fd5f4"
      },
      "source": [
        "\n",
        "import time\n",
        "import requests\n",
        "from IPython.display import clear_output\n",
        "\n",
        "base_url = 'https://www.makaan.com/hyderabad-residential-property/buy-property-in-hyderabad-city?page='\n",
        "\n",
        "ow = []   #\n",
        "bhk = []\n",
        "p = []\n",
        "s = []\n",
        "loc = []\n",
        "st = []\n",
        "pps = []\n",
        "\n",
        "for i in range(1,11):\n",
        "  time.sleep(3)\n",
        "\n",
        "  print(f'Going to scrape data from {i} page')\n",
        "  clear_output(wait=True)\n",
        "  url = base_url+str(i)\n",
        "  req = requests.get(url)\n",
        "  soup = BeautifulSoup(req.text,'html')\n",
        "\n",
        "  #owner info\n",
        "  ow_info = soup.findAll('span',attrs={'class':'seller-type'})\n",
        "  for j in ow_info:\n",
        "    ow.append(j.text)\n",
        "  \n",
        "  #bhk info\n",
        "  bhk_info = soup.findAll('div',attrs={'class':'title-line'})\n",
        "  for j in bhk_info:\n",
        "    bhk.append(j.strong.span.text)\n",
        "\n",
        "  #price info\n",
        "  p_info = soup.findAll('div',attrs={'data-type':'price-link'})\n",
        "  for  j in p_info:\n",
        "    p.append(j.text)\n",
        "  \n",
        "  #size info\n",
        "  s_info = soup.findAll(\"td\",attrs={'class':'size'})\n",
        "  for j in s_info:\n",
        "    s.append(j.text)\n",
        "  \n",
        "  #location info\n",
        "  loc_info = soup.findAll('span',attrs={'itemprop':'addressLocality'})\n",
        "  for j in loc_info:\n",
        "    loc.append(j.text)\n",
        "  \n",
        "  #status info\n",
        "  st_info = soup.findAll('tr',attrs={'class':'hcol w44'})\n",
        "  for j in st_info:\n",
        "    st.append(j.text)\n",
        "\n",
        "  #price per sqft info\n",
        "  pps_info = soup.findAll('td',attrs={'class':'lbl rate'})\n",
        "  for j in pps_info:\n",
        "    pps.append(j.text)\n"
      ],
      "execution_count": null,
      "outputs": [
        {
          "output_type": "stream",
          "text": [
            "Going to scrape data from 10 page\n"
          ],
          "name": "stdout"
        }
      ]
    },
    {
      "cell_type": "code",
      "metadata": {
        "id": "eESEgahUfu4u"
      },
      "source": [
        "data = pd.DataFrame({'Owner_inf' :ow ,\n",
        "              'Bhk_info' : bhk,\n",
        "              'Price' : p,\n",
        "              'Locality' : loc,\n",
        "              'Area_sqft' : s,\n",
        "              'Status' :st ,\n",
        "              'Price_Per_sqft' : pps})"
      ],
      "execution_count": null,
      "outputs": []
    },
    {
      "cell_type": "code",
      "metadata": {
        "id": "yUsR8xa5fvOY"
      },
      "source": [
        "data.to_csv('webscraped_data.csv',index=False)"
      ],
      "execution_count": null,
      "outputs": []
    },
    {
      "cell_type": "code",
      "metadata": {
        "id": "gqLu5Zp3fvST"
      },
      "source": [
        ""
      ],
      "execution_count": null,
      "outputs": []
    }
  ]
}